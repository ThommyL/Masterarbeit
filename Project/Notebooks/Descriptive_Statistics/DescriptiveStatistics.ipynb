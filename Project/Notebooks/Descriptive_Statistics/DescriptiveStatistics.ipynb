{
 "cells": [
  {
   "cell_type": "markdown",
   "metadata": {
    "pycharm": {
     "name": "#%% md\n"
    }
   },
   "source": [
    "# Descriptive Analysis\n",
    "\n",
    "I start by gathering data concerning tags from different (combinations of) origins."
   ]
  },
  {
   "cell_type": "code",
   "execution_count": null,
   "metadata": {},
   "outputs": [],
   "source": [
    "import matplotlib.pyplot as plt\n",
    "import os\n",
    "from typing import Dict\n",
    "from Project.Utils.Misc.OriginContainer import OriginContainer\n",
    "from Project.AutoSimilarityCacheConfiguration.DataAccess import DataAccess\n",
    "from Project.Misc.Misc import crop_background\n",
    "\n",
    "import numpy as np\n",
    "from tabulate import tabulate\n",
    "\n",
    "da: DataAccess = DataAccess.instance\n",
    "\n",
    "number_of_occurrences_per_tag = dict()\n",
    "\n",
    "origin_specific_data = dict()\n",
    "\n",
    "origins = ['Icon', 'Exp', 'Title', 'Title&Exp', 'Des', 'Des&Exp', 'Des&Title', 'Des&Title&Exp', 'Obj', 'Title&Exp&Obj']\n",
    "\n",
    "def origin_to_name(origin):\n",
    "    if origin == 'Exp':\n",
    "        return 'Expert Tags'\n",
    "    if origin == 'Des':\n",
    "        return 'Description Tags'\n",
    "    if origin == 'Icon':\n",
    "        return 'Icon Tags'\n",
    "    if origin == 'Title':\n",
    "        return 'Title Tags'\n",
    "    if origin == 'Title&Exp':\n",
    "        return 'Title & Expert Tags'\n",
    "    if origin == 'Des&Exp':\n",
    "        return 'Description & Expert Tags'\n",
    "    if origin == 'Des&Title':\n",
    "        return 'Description & Title Tags'\n",
    "    if origin == 'Des&Title&Exp':\n",
    "        return 'Description, Title & Expert Tags'\n",
    "    if origin == 'Obj':\n",
    "        return 'Object Tags'\n",
    "    if origin == 'Title&Exp&Obj':\n",
    "        return 'Title, Expert & Object Tags'\n",
    "    raise Exception(f'Unhandled case: {origin}')\n",
    "\n",
    "origin_names = [origin_to_name(o) for o in origins]\n",
    "\n",
    "for o in origins:\n",
    "    origin_specific_data[o]: Dict[str, any] = dict()\n",
    "    origin_specific_data[o]['number_of_tags_per_origin'] = dict()\n",
    "    origin_specific_data[o]['number_of_occurrences_per_tag'] = dict()\n",
    "    origin_specific_data[o]['max_number_of_tags_per_origin'] = 0\n",
    "    origin_specific_data[o]['all_tags'] = []\n",
    "    unique_tags = set()\n",
    "\n",
    "    origin_container_dict = []\n",
    "    for part in o.split('&'):\n",
    "        origin_container_dict.append(part)\n",
    "    origin_container = OriginContainer(tuple(origin_container_dict))\n",
    "\n",
    "    for i in da.get_ids():\n",
    "        for tag in da.get_tag_tuples_from_identifier(identifier=i, origin_container=origin_container):\n",
    "            if tag[1] in o and tag[0] not in origin_specific_data[o][\n",
    "                'all_tags']:  # Note: Set would be more efficient, but the order should stay the same across runs\n",
    "                origin_specific_data[o]['all_tags'].append(tag[0])\n",
    "\n",
    "    for i in da.get_ids():\n",
    "        current_tags = da.get_tag_tuples_from_identifier(identifier=i, origin_container=origin_container)\n",
    "        origin_specific_data[o]['number_of_tags_per_origin'][i] = 0\n",
    "        for c in current_tags:\n",
    "            if c[1] not in o:\n",
    "                continue\n",
    "            if c[0] in origin_specific_data[o]['number_of_occurrences_per_tag']:\n",
    "                origin_specific_data[o]['number_of_occurrences_per_tag'][c[0]] += 1\n",
    "            else:\n",
    "                origin_specific_data[o]['number_of_occurrences_per_tag'][c[0]] = 1\n",
    "            origin_specific_data[o]['number_of_tags_per_origin'][i] += 1\n",
    "            origin_specific_data[o]['max_number_of_tags_per_origin'] = max(\n",
    "                origin_specific_data[o]['max_number_of_tags_per_origin'],\n",
    "                origin_specific_data[o]['number_of_tags_per_origin'][i])\n",
    "            unique_tags.add(c)\n",
    "        origin_specific_data[o]['number_of_unique_tags'] = len(unique_tags)\n",
    "    origin_specific_data[o]['entities_with_n_tags'] = dict()\n",
    "\n",
    "    origin_specific_data[o]['max_number_of_occurrences_of_any_tag'] = 0\n",
    "    for t in origin_specific_data[o]['all_tags']:\n",
    "        origin_specific_data[o]['max_number_of_occurrences_of_any_tag'] = max(\n",
    "            origin_specific_data[o]['max_number_of_occurrences_of_any_tag'],\n",
    "            origin_specific_data[o]['number_of_occurrences_per_tag'][t])\n",
    "\n",
    "    origin_specific_data[o]['tags_per_number_of_occurrences'] = dict()\n",
    "    for i in range(1, origin_specific_data[o]['max_number_of_occurrences_of_any_tag'] + 1):\n",
    "        origin_specific_data[o]['tags_per_number_of_occurrences'][i] = 0\n",
    "\n",
    "    for i in range(1, origin_specific_data[o]['max_number_of_occurrences_of_any_tag'] + 1):\n",
    "        for t in origin_specific_data[o]['all_tags']:\n",
    "            if origin_specific_data[o]['number_of_occurrences_per_tag'][t] == i:\n",
    "                origin_specific_data[o]['tags_per_number_of_occurrences'][i] += 1\n",
    "\n",
    "    for i in range(origin_specific_data[o]['max_number_of_tags_per_origin'] + 1):\n",
    "        origin_specific_data[o]['entities_with_n_tags'][i] = 0\n",
    "\n",
    "    for i in da.get_ids():\n",
    "        origin_specific_data[o]['entities_with_n_tags'][origin_specific_data[o]['number_of_tags_per_origin'][i]] += 1"
   ]
  },
  {
   "cell_type": "markdown",
   "metadata": {
    "pycharm": {
     "name": "#%% md\n"
    }
   },
   "source": [
    "Here are the box plots showing the number of tags of the entities when only considering tags that are from one of the\n",
    "specified origins."
   ]
  },
  {
   "cell_type": "code",
   "execution_count": null,
   "metadata": {
    "pycharm": {
     "name": "#%%\n"
    }
   },
   "outputs": [],
   "source": [
    "fig, ax = plt.subplots()\n",
    "title = 'Distribution of Tags from (Combinations of) Origins'\n",
    "fig.set_figheight(10)\n",
    "fig.set_figwidth(8)\n",
    "ax.set_title(title, fontsize=14)\n",
    "plt.xticks(rotation=45, ha='right', fontsize=12)\n",
    "plt.yticks(fontsize=12)\n",
    "ax.boxplot([[origin_specific_data[o]['number_of_tags_per_origin'][i] for i in da.get_ids()] for o in origins],\n",
    "           labels=origin_names, showfliers=True)\n",
    "plt.savefig(title.replace(' ', '_').replace(':', '').replace('%', '').replace(',', '') + '.png')"
   ]
  },
  {
   "cell_type": "markdown",
   "metadata": {},
   "source": [
    "In the plot above, it can be seen that description tags are distributed extremely unevenly. If we look at the plot\n",
    "below, the reason becomes apparent: The boxplot for \"Des\" with outliers ignored is just a straight line. This means that\n",
    "almost none of the entities have Description tags. From the figure above we know that those entities that do have\n",
    "description tags have a lot of them."
   ]
  },
  {
   "cell_type": "code",
   "execution_count": null,
   "metadata": {
    "pycharm": {
     "name": "#%%\n"
    }
   },
   "outputs": [],
   "source": [
    "fig, ax = plt.subplots()\n",
    "title = 'Outliers ignored: Distribution of Tags from (Combinations of) Origins'\n",
    "fig.set_figheight(10)\n",
    "fig.set_figwidth(8)\n",
    "ax.set_title(title, fontsize=14)\n",
    "plt.xticks(rotation=45, ha='right', fontsize=12)\n",
    "plt.yticks(fontsize=12)\n",
    "ax.boxplot([[origin_specific_data[o]['number_of_tags_per_origin'][i] for i in da.get_ids()] for o in origins],\n",
    "           labels=origin_names, showfliers=False)\n",
    "plt.savefig(title.replace(' ', '_').replace(':', '').replace('%', '').replace(',', '') + '.png')"
   ]
  },
  {
   "cell_type": "markdown",
   "metadata": {},
   "source": [
    "Next a look is taken on how evenly the tags are distributed."
   ]
  },
  {
   "cell_type": "code",
   "execution_count": null,
   "metadata": {
    "pycharm": {
     "name": "#%%\n"
    }
   },
   "outputs": [],
   "source": [
    "for o in origins:\n",
    "    _, ax = plt.subplots()\n",
    "    title = f'Number of Artworks with n tags from Origin(s): {origin_to_name(o)}'\n",
    "    ax.set_title(title)\n",
    "    ax.set_xlabel('Number of Tags')\n",
    "    ax.set_ylabel('Number of Artworks with n Tags')\n",
    "    ax.bar((tmp := origin_specific_data[o]['entities_with_n_tags']).keys(), tmp.values(), width=1)\n",
    "    plt.savefig(title.replace(' ', '_').replace(':', '').replace('%', '').replace(',', '') + '.png')"
   ]
  },
  {
   "cell_type": "markdown",
   "metadata": {
    "pycharm": {
     "name": "#%% md\n"
    }
   },
   "source": [
    "The previous statements to tags from the descriptions are again deductible from the above graphs. The graph generated\n",
    "for the origin of expert tags looks normally distributed. This is not the case for the origin of titles. The\n",
    "distribution for the origin of description is that the great majority of the mass lies at 0.\n",
    "This has an influence on the combinations that description tags are a part of."
   ]
  },
  {
   "cell_type": "code",
   "execution_count": null,
   "metadata": {
    "pycharm": {
     "name": "#%%\n"
    }
   },
   "outputs": [],
   "source": [
    "for o in origins:\n",
    "    print(f'There are {origin_specific_data[o][\"entities_with_n_tags\"][0]} Entities without Tags in {origin_to_name(o)}')"
   ]
  },
  {
   "cell_type": "markdown",
   "metadata": {
    "pycharm": {
     "name": "#%% md\n"
    }
   },
   "source": [
    "In the output above it can be seen that if the origins of Titles and Expert Tags are considered, there is only one\n",
    "entity that does not have any tags associated with it."
   ]
  },
  {
   "cell_type": "code",
   "execution_count": null,
   "metadata": {
    "pycharm": {
     "name": "#%%\n"
    }
   },
   "outputs": [],
   "source": [
    "for o in origins:\n",
    "    if 'Obj' in o:  # Analyzed separately\n",
    "        continue\n",
    "    fig, ax = plt.subplots()\n",
    "    fig.set_figheight(5)\n",
    "    fig.set_figwidth(10)\n",
    "    title = f'Number of Occurrences of Tags from Origin(s): {origin_to_name(o)}'\n",
    "    ax.set_title(title)\n",
    "    ax.set_xlabel('Number of Occurrences')\n",
    "    ax.set_ylabel('Number of Tags with n Occurrences')\n",
    "    tmp = origin_specific_data[o]['tags_per_number_of_occurrences']\n",
    "    top_3 = sorted(origin_specific_data[o]['number_of_occurrences_per_tag'].items(), key=lambda x: x[1], reverse=True)[\n",
    "        0:3]\n",
    "    cur_max_y = max(tmp.values())\n",
    "    cur_max_x = max(tmp.keys())\n",
    "    for index, entry in enumerate(top_3):\n",
    "        ax.annotate(entry[0], (entry[1], 0), xytext=(entry[1], cur_max_y / (4 - index)),\n",
    "                    bbox=dict(boxstyle=\"round\", alpha=1, color='lightblue'), arrowprops=dict(color='lightblue', shrink=0.05))\n",
    "\n",
    "    ax.bar(tmp.keys(), tmp.values(), width=1.5)\n",
    "    plt.savefig(title.replace(' ', '_').replace(':', '').replace('%', '').replace(',', '') + '.png')"
   ]
  },
  {
   "cell_type": "markdown",
   "metadata": {
    "pycharm": {
     "name": "#%% md\n"
    }
   },
   "source": [
    "The graphs above are difficult to read, therefore a cut will be made when 95% of the mass is accounted for and the\n",
    "graphs will be generated again. What can already be seen however, is that most tags that come from the descriptions are\n",
    "only seen once. This is not necessarily a problem, since the similarity measures are computed by a language model and\n",
    "therefore does not rely on exact matches.\n",
    "Since a lot of caches have to be generated and the time complexity for these operations is high and depends on the\n",
    "number of unique tags, considering tags from the descriptions will result in a significant slow-down."
   ]
  },
  {
   "cell_type": "code",
   "execution_count": null,
   "metadata": {
    "pycharm": {
     "name": "#%%\n"
    }
   },
   "outputs": [],
   "source": [
    "for o in origins:\n",
    "    total = 0\n",
    "    for i in range(1, origin_specific_data[o]['max_number_of_occurrences_of_any_tag'] + 1):\n",
    "        total += origin_specific_data[o]['tags_per_number_of_occurrences'][i]\n",
    "    current = 0\n",
    "    cut_at = None\n",
    "    for i in range(1, origin_specific_data[o]['max_number_of_occurrences_of_any_tag'] + 1):\n",
    "        current += origin_specific_data[o]['tags_per_number_of_occurrences'][i]\n",
    "        if current >= total * 0.95:\n",
    "            cut_at = i\n",
    "            break\n",
    "    cut_off_dict = dict()\n",
    "    for k in origin_specific_data[o]['tags_per_number_of_occurrences'].keys():\n",
    "        if k > cut_at:\n",
    "            break\n",
    "        cut_off_dict[k] = origin_specific_data[o]['tags_per_number_of_occurrences'][k]\n",
    "    origin_specific_data[o]['cut_tags_per_number_of_occurrences'] = cut_off_dict"
   ]
  },
  {
   "cell_type": "code",
   "execution_count": null,
   "metadata": {
    "pycharm": {
     "name": "#%%\n"
    }
   },
   "outputs": [],
   "source": [
    "for o in origins:\n",
    "    _, ax = plt.subplots()\n",
    "    title = f'Cut off at 95%: Number of Artworks with n Tags from Origin(s): {origin_to_name(o)}'\n",
    "    ax.set_title(title)\n",
    "    ax.set_xlabel('Number of occurrences')\n",
    "    ax.set_ylabel('Number of tags with n occurrences')\n",
    "    ax.bar((tmp := origin_specific_data[o]['cut_tags_per_number_of_occurrences']).keys(), tmp.values(),\n",
    "           tick_label=[k for k in tmp.keys()])\n",
    "    plt.savefig(title.replace(' ', '_').replace(':', '').replace('%', '').replace(',', '') + '.png')"
   ]
  },
  {
   "cell_type": "code",
   "execution_count": null,
   "metadata": {
    "pycharm": {
     "name": "#%%\n"
    }
   },
   "outputs": [],
   "source": [
    "obj_tags = set()\n",
    "for i in da.get_ids():\n",
    "    for tag in da.get_tag_tuples_from_identifier(i, OriginContainer(('Obj',))):\n",
    "        obj_tags.add(tag[0])\n",
    "obj_tag_occurrences = dict()\n",
    "\n",
    "for object_tag in obj_tags:\n",
    "    obj_tag_occurrences[object_tag] = 0\n",
    "\n",
    "for i in da.get_ids():\n",
    "    current_tags = tuple(tt[0] for tt in da.get_tag_tuples_from_identifier(i, OriginContainer(('Obj',))))\n",
    "    for object_tag in obj_tags:\n",
    "        if object_tag in current_tags:\n",
    "            obj_tag_occurrences[object_tag] += 1\n",
    "\n",
    "obj_tag_occurrences = sorted(obj_tag_occurrences.items(), key=lambda x: x[1], reverse=True)\n",
    "\n",
    "_, ax = plt.subplots()\n",
    "title = f'Number of Artworks in which an Object Tag appears'\n",
    "ax.set_title(title)\n",
    "ax.set_xlabel('Tag')\n",
    "ax.set_ylabel('Number of Artworks with at least one Occurrence of tag')\n",
    "ax.bar([tt[0] for tt in obj_tag_occurrences], [tt[1] for tt in obj_tag_occurrences])\n",
    "plt.xticks(rotation=45, ha='right', fontsize=12)\n",
    "plt.savefig(title.replace(' ', '_').replace(':', '').replace('%', '').replace(',', '') + '.png')"
   ]
  },
  {
   "cell_type": "code",
   "execution_count": null,
   "metadata": {
    "pycharm": {
     "name": "#%%\n"
    }
   },
   "outputs": [],
   "source": [
    "column_specific_data = dict()\n",
    "columns_of_interest = ['YearEstimate', 'MaterialTechnique', 'ObjectClass']\n",
    "methods_for_fetching = [da.get_year_estimate_from_identifier, da.get_material_technique_from_identifier,\n",
    "                        da.get_object_class_from_identifier]\n",
    "\n",
    "for c, met in zip(columns_of_interest, methods_for_fetching):\n",
    "    column_specific_data[c] = dict()\n",
    "    column_specific_data[c]['number_of_occurrences_per_unique_value'] = dict()\n",
    "    column_specific_data[c]['max_number_of_occurrences'] = 0\n",
    "    column_specific_data[c]['number_of_unique_values'] = 0\n",
    "    for i in da.get_ids():\n",
    "        if (current := met(i)) in column_specific_data[c]['number_of_occurrences_per_unique_value'].keys():\n",
    "            column_specific_data[c]['number_of_occurrences_per_unique_value'][current] += 1\n",
    "        else:\n",
    "            column_specific_data[c]['number_of_occurrences_per_unique_value'][current] = 1\n",
    "\n",
    "        column_specific_data[c]['max_number_of_occurrences'] = max(\n",
    "            column_specific_data[c]['max_number_of_occurrences'],\n",
    "            column_specific_data[c]['number_of_occurrences_per_unique_value'][current])\n",
    "        column_specific_data[c]['number_of_unique_values'] += 1\n",
    "\n",
    "    column_specific_data[c]['unique_values_per_number_of_occurrences'] = dict()\n",
    "\n",
    "    for i in range(1, column_specific_data[c]['max_number_of_occurrences'] + 1):\n",
    "        column_specific_data[c]['unique_values_per_number_of_occurrences'][i] = 0\n",
    "\n",
    "    for i in range(1, column_specific_data[c]['max_number_of_occurrences'] + 1):\n",
    "        for k in column_specific_data[c]['number_of_occurrences_per_unique_value'].keys():\n",
    "            if column_specific_data[c]['number_of_occurrences_per_unique_value'][k] == i:\n",
    "                column_specific_data[c]['unique_values_per_number_of_occurrences'][i] += 1"
   ]
  },
  {
   "cell_type": "code",
   "execution_count": null,
   "metadata": {
    "pycharm": {
     "name": "#%%\n"
    }
   },
   "outputs": [],
   "source": [
    "for c in columns_of_interest:\n",
    "    fig, ax = plt.subplots()\n",
    "    fig.set_figheight(5)\n",
    "    fig.set_figwidth(10)\n",
    "    title = f'Number of Occurrences in Column: {c}'\n",
    "    ax.set_title(title)\n",
    "    ax.set_xlabel('Number of Occurrences')\n",
    "    ax.set_ylabel('Number of Tags with n Occurrences')\n",
    "    current_data = column_specific_data[c]['unique_values_per_number_of_occurrences']\n",
    "\n",
    "    top_3 = sorted(column_specific_data[c]['number_of_occurrences_per_unique_value'].items(), key=lambda x: x[1],\n",
    "               reverse=True)[0:3]\n",
    "    cur_max_y = max(current_data.values())\n",
    "    cur_max_x = max(current_data.keys())\n",
    "    for index, entry in enumerate(top_3):\n",
    "        ax.annotate(entry[0], (entry[1], cur_max_y / 20), xytext=(entry[1], cur_max_y / (4 - index)),\n",
    "                    bbox=dict(boxstyle=\"round\", alpha=1, color='lightblue'), arrowprops=dict(color='lightblue', shrink=0.05))\n",
    "    locs, labels = plt.xticks()\n",
    "    step_size = int(len(current_data) / 10)\n",
    "    if int(step_size) != int(len(current_data) / 10):\n",
    "        step_size = int(step_size) + 1\n",
    "    else:\n",
    "        step_size = int(len(current_data) / 10)\n",
    "    plt.xticks(np.arange(1, len(current_data) + 1, step_size))\n",
    "    use_width = 1\n",
    "    if c != 'YearEstimate':\n",
    "        use_width = 8\n",
    "    ax.bar(current_data.keys(), current_data.values(), width=use_width)\n",
    "    plt.savefig(title.replace(' ', '_').replace(':', '').replace('%', '').replace(',', '') + '.png')"
   ]
  },
  {
   "cell_type": "markdown",
   "metadata": {
    "pycharm": {
     "name": "#%% md\n"
    }
   },
   "source": [
    "Above we can see that the columns \"MaterialTechnique\" and \"ObjectClass\" are dominated by a few classes. The same is\n",
    "true for the column \"YearEstimate\", but to a lesser extent."
   ]
  },
  {
   "cell_type": "code",
   "execution_count": null,
   "metadata": {
    "pycharm": {
     "name": "#%%\n"
    }
   },
   "outputs": [],
   "source": [
    "min_year = np.inf\n",
    "max_year = -np.inf\n",
    "\n",
    "for i in da.get_ids():\n",
    "    current_year = da.get_year_estimate_from_identifier(i)\n",
    "    if current_year < min_year:\n",
    "        min_year = current_year\n",
    "    if current_year > max_year:\n",
    "        max_year = current_year\n",
    "\n",
    "year_occurrences = dict()\n",
    "\n",
    "for y in range(min_year, max_year + 1):\n",
    "    year_occurrences[y] = 0\n",
    "\n",
    "for i in da.get_ids():\n",
    "    year_occurrences[da.get_year_estimate_from_identifier(i)] += 1\n",
    "\n",
    "_, ax = plt.subplots()\n",
    "title = f'Number of Artworks per Year'\n",
    "ax.set_title(title)\n",
    "ax.set_xlabel('Year')\n",
    "ax.set_ylabel('Number of Artworks attributed to that Year')\n",
    "ax.bar(year_occurrences.keys(), year_occurrences.values(), width=1.5)\n",
    "plt.xticks(rotation=45, ha='right', fontsize=12)\n",
    "plt.savefig(title.replace(' ', '_').replace(':', '').replace('%', '').replace(',', '') + '.png')"
   ]
  },
  {
   "cell_type": "markdown",
   "metadata": {
    "pycharm": {
     "name": "#%% md\n"
    }
   },
   "source": [
    "In the following the most frequent tags considering each (combination of) origin(s) are listed."
   ]
  },
  {
   "cell_type": "code",
   "execution_count": null,
   "metadata": {
    "pycharm": {
     "name": "#%%\n"
    }
   },
   "outputs": [],
   "source": [
    "for o in origins:\n",
    "    current = dict(\n",
    "        sorted(origin_specific_data[o]['number_of_occurrences_per_tag'].items(), key=lambda x: x[1], reverse=True)[\n",
    "        0:25])\n",
    "    table = []\n",
    "    for k in current.keys():\n",
    "        table.append((k, current[k]))\n",
    "    print(f'There are {len(origin_specific_data[o][\"number_of_occurrences_per_tag\"].keys())} unique elements for origin {o}\\n')\n",
    "    print(tabulate(table, headers=[f'Most frequent tags of origin {o}', 'Number of occurrences']) + '\\n\\n\\n')"
   ]
  },
  {
   "cell_type": "markdown",
   "metadata": {
    "pycharm": {
     "name": "#%% md\n"
    }
   },
   "source": [
    "In the following the most frequent values of the columns \"YearEstimate\", \"MaterialTechnique\" and \"ObjectClass\" are\n",
    "listed."
   ]
  },
  {
   "cell_type": "code",
   "execution_count": null,
   "metadata": {
    "pycharm": {
     "name": "#%%\n"
    }
   },
   "outputs": [],
   "source": [
    "for c in columns_of_interest:\n",
    "    current = dict(\n",
    "        sorted(column_specific_data[c]['number_of_occurrences_per_unique_value'].items(), key=lambda x: x[1],\n",
    "               reverse=True)[0:25])\n",
    "    table = []\n",
    "    for k in current.keys():\n",
    "        table.append((k, current[k]))\n",
    "    print(tabulate(table, headers=[f'Most frequent values of column {c}', 'Number of occurrences']) + '\\n\\n\\n')"
   ]
  },
  {
   "cell_type": "code",
   "execution_count": null,
   "metadata": {
    "pycharm": {
     "name": "#%%\n"
    }
   },
   "outputs": [],
   "source": [
    "for o in origins:\n",
    "    print(f'There are {origin_specific_data[o][\"number_of_unique_tags\"]} unique tags in {origin_to_name(o)}')"
   ]
  },
  {
   "cell_type": "code",
   "execution_count": null,
   "metadata": {
    "pycharm": {
     "name": "#%%\n"
    }
   },
   "outputs": [],
   "source": [
    "for file in os.listdir(os.getcwd()):\n",
    "    if file.endswith('.png'):\n",
    "        crop_background(os.path.join(os.getcwd(), file))"
   ]
  }
 ],
 "metadata": {
  "kernelspec": {
   "display_name": "PyCharm (Masters-Thesis-Implementation)",
   "language": "python",
   "name": "pycharm-8f91eb99"
  },
  "language_info": {
   "codemirror_mode": {
    "name": "ipython",
    "version": 3
   },
   "file_extension": ".py",
   "mimetype": "text/x-python",
   "name": "python",
   "nbconvert_exporter": "python",
   "pygments_lexer": "ipython3",
   "version": "3.8.12"
  }
 },
 "nbformat": 4,
 "nbformat_minor": 1
}
