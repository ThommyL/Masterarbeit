{
 "cells": [
  {
   "cell_type": "code",
   "execution_count": null,
   "metadata": {
    "pycharm": {
     "name": "#%%\n"
    }
   },
   "outputs": [],
   "source": [
    "import pickle\n",
    "import os.path\n",
    "from typing import Tuple, Dict, Set, List\n",
    "\n",
    "boxes_dict: Dict[str, Tuple[Tuple[Tuple[int, int, int, int],...],  Tuple[str,...]]]\n",
    "with open(os.path.join(os.path.dirname(os.path.dirname(os.getcwd())), 'Generated_Files', 'Boxes_dictionary.pkl'), 'rb') as f:\n",
    "    boxes_dict = pickle.load(f)\n",
    "\n",
    "all_labels: Set[str] = set()\n",
    "for k in boxes_dict.keys():\n",
    "    new_labels = []\n",
    "    for l in boxes_dict[k][1]:\n",
    "        if l == 'Blumen in Vase' or l == 'Blüte' or l == 'Blumenstrauß' or l == 'Blumen' or l == 'Blüten':\n",
    "            new_labels.append('Blumen')\n",
    "        elif l == 'Schloss':\n",
    "            new_labels.append('Burg')\n",
    "        elif l == 'Berg':\n",
    "            new_labels.append('Gebirge')\n",
    "        elif l == 'Pferd' or l == 'Esel':\n",
    "            new_labels.append('Pferd oder Esel')\n",
    "        elif l == 'Hütte' or l == 'Haus' or l == 'Ruine':\n",
    "            new_labels.append('Gebäude')\n",
    "        elif l == 'Pfad':\n",
    "            new_labels.append('Weg')\n",
    "        elif l == 'Rucksack' or l == 'Tasche':\n",
    "            new_labels.append('Tasche')\n",
    "        elif l == 'Turban' or l == 'Mütze' or l == 'Hut':\n",
    "            new_labels.append('Kopfbedeckung')\n",
    "        elif l == 'Körbe':\n",
    "            new_labels.append('Korb')\n",
    "        elif l == 'Wasser' or l == 'Meer':\n",
    "            new_labels.append('Gewässer')\n",
    "        elif l == 'Gesicht':\n",
    "            new_labels.append('Kopf')\n",
    "        elif l == 'Schiff':\n",
    "            new_labels.append('Boot')\n",
    "        elif l == 'Apfel' or l == 'Birne' or l == 'Tomate' or l == 'Kürbis':\n",
    "            new_labels.append('Obst')\n",
    "        elif l == 'Schaf' or l == 'Ziege' or l == 'Ziegenbock':\n",
    "            new_labels.append('Schaf oder Ziege')\n",
    "        else:\n",
    "            new_labels.append(l)\n",
    "    for l in new_labels:\n",
    "        all_labels.add(l)\n",
    "    boxes_dict[k] = (boxes_dict[k][0], tuple(new_labels))\n",
    "\n",
    "occurrence_dict: Dict[str, int] = dict()\n",
    "\n",
    "for l in all_labels:\n",
    "    occurrence_dict[l] = 0\n",
    "    for k in boxes_dict.keys():\n",
    "        for current in boxes_dict[k][1]:\n",
    "            if current == l:\n",
    "                occurrence_dict[l] += 1\n",
    "                break\n",
    "to_delete: List[str] = []\n",
    "\n",
    "for k in boxes_dict.keys():\n",
    "    boxes: Tuple[Tuple[int, int, int, int]] = boxes_dict[k][0]\n",
    "    labels: Tuple[str] = boxes_dict[k][1]\n",
    "    new_boxes: List[Tuple[int, int, int, int]] = []\n",
    "    new_labels: List[str] = []\n",
    "    for b, l in zip(boxes, labels):\n",
    "        if occurrence_dict[l] < 50:\n",
    "            continue\n",
    "        new_boxes.append(b)\n",
    "        new_labels.append(l)\n",
    "    if len(new_boxes) == 0:\n",
    "        to_delete.append(k)\n",
    "    else:\n",
    "        boxes_dict[k] = (tuple(new_boxes), tuple(new_labels))\n",
    "\n",
    "for k in to_delete:\n",
    "    del boxes_dict[k]\n",
    "\n",
    "all_labels: Set[str] = set()\n",
    "for k in boxes_dict.keys():\n",
    "    for l in boxes_dict[k][1]:\n",
    "        all_labels.add(l)\n",
    "\n",
    "to_delete = []\n",
    "for k in occurrence_dict.keys():\n",
    "    if k not in all_labels:\n",
    "        to_delete.append(k)\n",
    "for l in to_delete:\n",
    "    del occurrence_dict[l]\n",
    "\n",
    "print(occurrence_dict)\n",
    "print(len(all_labels))\n",
    "\n",
    "with open('cleaned_bounding_boxes.pkl', 'wb+') as f:\n",
    "    pickle.dump(boxes_dict, f)"
   ]
  },
  {
   "cell_type": "code",
   "execution_count": null,
   "metadata": {
    "pycharm": {
     "name": "#%%\n"
    }
   },
   "outputs": [],
   "source": [
    "from Project.Utils.Misc.Nlp import NLP\n",
    "\n",
    "nlp: NLP = NLP.instance\n",
    "for label in all_labels:\n",
    "    assert sum(nlp.nlp(label).vector) != 0"
   ]
  }
 ],
 "metadata": {
  "kernelspec": {
   "display_name": "PyCharm (Masters-Thesis-Implementation)",
   "language": "python",
   "name": "pycharm-8f91eb99"
  },
  "language_info": {
   "codemirror_mode": {
    "name": "ipython",
    "version": 3
   },
   "file_extension": ".py",
   "mimetype": "text/x-python",
   "name": "python",
   "nbconvert_exporter": "python",
   "pygments_lexer": "ipython3",
   "version": "3.8.12"
  }
 },
 "nbformat": 4,
 "nbformat_minor": 1
}
