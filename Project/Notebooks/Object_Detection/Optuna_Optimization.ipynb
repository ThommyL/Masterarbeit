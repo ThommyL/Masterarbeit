{
 "cells": [
  {
   "cell_type": "code",
   "execution_count": null,
   "metadata": {
    "pycharm": {
     "name": "#%%\n"
    }
   },
   "outputs": [],
   "source": [
    "import os\n",
    "import pickle\n",
    "import torch\n",
    "import optuna\n",
    "import matplotlib.pyplot as plt\n",
    "import numpy as np\n",
    "\n",
    "from Project.VisualFeaturesBranches.ObjectDetection.ObjectDetectionNetworkUtils import get_config_score\n",
    "from Project.Misc.Misc import crop_background"
   ]
  },
  {
   "cell_type": "code",
   "execution_count": null,
   "metadata": {
    "pycharm": {
     "name": "#%%\n"
    }
   },
   "outputs": [],
   "source": [
    "def objective(trial):\n",
    "    return get_config_score(\n",
    "        {\n",
    "        'lr': trial.suggest_loguniform('learning_rate', 1e-6, 1e-3),\n",
    "        'weight_decay': trial.suggest_loguniform('weight_decay', 1e-5, 1e-1),\n",
    "        'trainable_layers': trial.suggest_int('trainable_layers', 1, 6),\n",
    "        'size': 1200,\n",
    "        'p_horizontal_flip': 0,\n",
    "        'p_vertical_flip': 0,\n",
    "        'brightness_jitter': 0,\n",
    "        'contrast_jitter': 0,\n",
    "        'saturation_jitter': 0,\n",
    "        'hue_jitter': 0,\n",
    "        'p_grayscale': 0,\n",
    "        'batch_size': 1,\n",
    "        'num_workers': 0,\n",
    "        'device': torch.device('cuda'),\n",
    "        'average_span': 5,\n",
    "        'nr_epochs': 10,\n",
    "        'report': False,\n",
    "        'small_model': True,\n",
    "        'curriculum': False\n",
    "        }, trial\n",
    "    )\n",
    "\n",
    "if os.path.exists(study_path := 'study_without_augmentations.pkl'):\n",
    "    with open(study_path, 'rb') as f:\n",
    "        study = pickle.load(f)\n",
    "else:\n",
    "    study = optuna.create_study(direction=\"maximize\", study_name='No_augmentations', pruner=optuna.pruners.SuccessiveHalvingPruner(min_resource=1, reduction_factor=4), sampler=optuna.samplers.TPESampler(seed=0, multivariate=True, group=True, n_startup_trials=10))\n",
    "    study.optimize(objective, n_trials=40, show_progress_bar=True)\n",
    "\n",
    "    with open(study_path, 'wb+') as f:\n",
    "        pickle.dump(study, f)"
   ]
  },
  {
   "cell_type": "code",
   "execution_count": null,
   "metadata": {
    "pycharm": {
     "name": "#%%\n"
    }
   },
   "outputs": [],
   "source": [
    "study.best_trial.params"
   ]
  },
  {
   "cell_type": "code",
   "execution_count": null,
   "metadata": {
    "pycharm": {
     "name": "#%%\n"
    }
   },
   "outputs": [],
   "source": [
    "optuna.visualization.matplotlib.plot_optimization_history(study, target_name='F1 Score')"
   ]
  },
  {
   "cell_type": "code",
   "execution_count": null,
   "metadata": {
    "pycharm": {
     "name": "#%%\n"
    }
   },
   "outputs": [],
   "source": [
    "optuna.visualization.plot_intermediate_values(study)"
   ]
  },
  {
   "cell_type": "code",
   "execution_count": null,
   "metadata": {
    "pycharm": {
     "name": "#%%\n"
    }
   },
   "outputs": [],
   "source": [
    "optuna.visualization.plot_parallel_coordinate(study, target_name='F1 Score')"
   ]
  },
  {
   "cell_type": "code",
   "execution_count": null,
   "metadata": {
    "pycharm": {
     "name": "#%%\n"
    }
   },
   "outputs": [],
   "source": [
    "optuna.visualization.plot_param_importances(study, evaluator=optuna.importance.FanovaImportanceEvaluator(n_trees=10000, max_depth=2**8))"
   ]
  },
  {
   "cell_type": "code",
   "execution_count": null,
   "metadata": {
    "pycharm": {
     "name": "#%%\n"
    }
   },
   "outputs": [],
   "source": [
    "ideal_trainable_layers = study.best_trial.params['trainable_layers']\n",
    "def objective(trial):\n",
    "    hue_jitter = trial.suggest_loguniform('hue_jitter', 0.001, 0.5)\n",
    "    return get_config_score(\n",
    "        {\n",
    "        'lr': trial.suggest_loguniform('learning_rate', 1e-6, 1e-3),\n",
    "        'weight_decay': trial.suggest_loguniform('weight_decay', 1e-5, 1e-1),\n",
    "        'trainable_layers': ideal_trainable_layers,\n",
    "        'size': 1200,\n",
    "        'p_horizontal_flip': trial.suggest_uniform('p_horizontal_flip', 0, 0.5),\n",
    "        'p_vertical_flip': trial.suggest_uniform('p_vertical_flip', 0, 0.5),\n",
    "        'brightness_jitter': trial.suggest_uniform('brightness_jitter', 0.001, 1),\n",
    "        'contrast_jitter': trial.suggest_loguniform('contrast_jitter', 0.001, 1),\n",
    "        'saturation_jitter': trial.suggest_loguniform('saturation_jitter', 0.001, 1),\n",
    "        'hue_jitter': (-hue_jitter, hue_jitter),\n",
    "        'p_grayscale': trial.suggest_uniform('p_grayscale', 0, 0.5),\n",
    "        'batch_size': 1,\n",
    "        'num_workers': 1,\n",
    "        'device': torch.device('cuda'),\n",
    "        'average_span': 5,\n",
    "        'nr_epochs': 10,\n",
    "        'report': False,\n",
    "        'small_model': True,\n",
    "        'curriculum': True\n",
    "        }, trial\n",
    "    )\n",
    "if os.path.exists(study_path := 'study_with_augmentations.pkl'):\n",
    "    with open(study_path, 'rb') as f:\n",
    "        study = pickle.load(f)\n",
    "else:\n",
    "    # Note: min_resource -> It is not expected that the augmented models perform better in the first epochs then the unaugmented ones\n",
    "    study = optuna.create_study(direction=\"maximize\", study_name='With_augmentations', pruner=optuna.pruners.SuccessiveHalvingPruner(min_resource=5), sampler=optuna.samplers.TPESampler(seed=0, multivariate=True, group=True, n_startup_trials=10))\n",
    "    study.optimize(objective, n_trials=40, show_progress_bar=True)\n",
    "    with open(study_path, 'wb+') as f:\n",
    "        pickle.dump(study, f)"
   ]
  },
  {
   "cell_type": "code",
   "execution_count": null,
   "metadata": {
    "pycharm": {
     "name": "#%%\n"
    }
   },
   "outputs": [],
   "source": [
    "study.best_trial"
   ]
  },
  {
   "cell_type": "code",
   "execution_count": null,
   "metadata": {
    "pycharm": {
     "name": "#%%\n"
    }
   },
   "outputs": [],
   "source": [
    "optuna.visualization.matplotlib.plot_optimization_history(study)"
   ]
  },
  {
   "cell_type": "code",
   "execution_count": null,
   "metadata": {
    "pycharm": {
     "name": "#%%\n"
    }
   },
   "outputs": [],
   "source": [
    "optuna.visualization.plot_intermediate_values(study)"
   ]
  },
  {
   "cell_type": "code",
   "execution_count": null,
   "metadata": {
    "pycharm": {
     "name": "#%%\n"
    }
   },
   "outputs": [],
   "source": [
    "optuna.visualization.plot_parallel_coordinate(study)"
   ]
  },
  {
   "cell_type": "code",
   "execution_count": null,
   "metadata": {
    "pycharm": {
     "name": "#%%\n"
    }
   },
   "outputs": [],
   "source": [
    "optuna.visualization.plot_param_importances(study, evaluator=optuna.importance.FanovaImportanceEvaluator(n_trees=10000, max_depth=2**8), target_name='F1 Score', params=['brightness_jitter', 'hue_jitter', 'p_vertical_flip', 'p_horizontal_flip', 'contrast_jitter', 'p_grayscale', 'saturation_jitter'])"
   ]
  },
  {
   "cell_type": "code",
   "execution_count": null,
   "metadata": {
    "pycharm": {
     "name": "#%%\n"
    }
   },
   "outputs": [],
   "source": [
    "# Note: The above results can differ in each run, so these numbers might not always be exactly the same.\n",
    "# A matplotlib graph was made so that the labels could be changed\n",
    "scores = {'Brightness Jitter': 0.43857,\n",
    "          'Hue Jitter': 0.23048,\n",
    "          'P vertical Flip': 0.0855,\n",
    "          'Contrast Jitter': 0.08055,\n",
    "          'P horizontal Flip': 0.0723,\n",
    "          'P Grayscale': 0.06114,\n",
    "          'Saturation Jitter': 0.03144\n",
    "          }\n",
    "\n",
    "fig, axes = plt.subplots()\n",
    "title = 'Importance of Augmentation Techniques for F1 Score'\n",
    "axes.set_title(title, fontsize=24)\n",
    "plt.xticks(rotation=45, ha='right', fontsize=12)\n",
    "axes.bar(scores.keys(), scores.values())\n",
    "\n",
    "for i,j in zip(np.arange(len(scores.keys())), scores.values()):\n",
    "    axes.annotate(str(j)[0:5],xy=(i-0.3,j-0.0225), color='white', weight='bold', fontsize=24)\n",
    "fig.set_figheight(12)\n",
    "fig.set_figwidth(17)\n",
    "plt.xticks(fontsize=16)\n",
    "plt.yticks(fontsize=16)\n",
    "plt.savefig(path:='importance_of_augmentations')\n",
    "crop_background(os.path.abspath(path + '.png'))"
   ]
  }
 ],
 "metadata": {
  "kernelspec": {
   "display_name": "PyCharm (Masters-Thesis-Implementation)",
   "language": "python",
   "name": "pycharm-8f91eb99"
  },
  "language_info": {
   "codemirror_mode": {
    "name": "ipython",
    "version": 3
   },
   "file_extension": ".py",
   "mimetype": "text/x-python",
   "name": "python",
   "nbconvert_exporter": "python",
   "pygments_lexer": "ipython3",
   "version": "3.8.12"
  }
 },
 "nbformat": 4,
 "nbformat_minor": 1
}
